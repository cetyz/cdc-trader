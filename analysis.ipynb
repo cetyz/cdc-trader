{
 "cells": [
  {
   "cell_type": "markdown",
   "metadata": {},
   "source": [
    "Let's see if we can create a model to predict if a coin will\n",
    "1. go up by 1%\n",
    "2. trade in the same zone\n",
    "3. go down by 1%\n",
    "in the next 2 hours (12 5m candles)\n",
    "\n",
    "on CDC exchange, fees are 0.4% per transaction, so we should aim to make at least 0.2% profit on each trade"
   ]
  },
  {
   "cell_type": "code",
   "execution_count": 74,
   "metadata": {},
   "outputs": [],
   "source": [
    "import json\n",
    "from datetime import datetime\n",
    "\n",
    "import numpy as np\n",
    "import pandas as pd\n",
    "import matplotlib.pyplot as plt\n",
    "from sklearn.preprocessing import MinMaxScaler\n",
    "from ta.momentum import rsi\n",
    "from ta.trend import sma_indicator\n",
    "\n",
    "\n",
    "from cdc_wrapper import CDC"
   ]
  },
  {
   "cell_type": "code",
   "execution_count": 3,
   "metadata": {},
   "outputs": [],
   "source": [
    "with open('keys.json', 'r') as f:\n",
    "    keys = json.load(f)\n",
    "\n",
    "cdc = CDC(keys, sandbox=False)"
   ]
  },
  {
   "cell_type": "code",
   "execution_count": 44,
   "metadata": {},
   "outputs": [
    {
     "data": {
      "text/plain": [
       "[<matplotlib.lines.Line2D at 0x1c48c2d5210>]"
      ]
     },
     "execution_count": 44,
     "metadata": {},
     "output_type": "execute_result"
    },
    {
     "data": {
      "image/png": "[encoded data removed]",
      "text/plain": [
       "<Figure size 432x288 with 1 Axes>"
      ]
     },
     "metadata": {
      "needs_background": "light"
     },
     "output_type": "display_data"
    }
   ],
   "source": [
    "data = cdc.get_candlesticks('BTC_USDC', '5m', depth=1000)\n",
    "\n",
    "df = pd.DataFrame.from_records(data)\n",
    "\n",
    "future_window = 12\n",
    "future_diff_threshold = 0.012\n",
    "\n",
    "# convert our unix timestamp to dt\n",
    "df['dt'] = pd.to_datetime(df['t'], unit='ms')\n",
    "\n",
    "# calculate future values so we can set our labels\n",
    "# will do feature engineering after this\n",
    "\n",
    "future_cols = []\n",
    "for i in range(1, future_window+1):\n",
    "    df[f'h_{i}'] = df['h'].shift(-i)\n",
    "    df[f'l_{i}'] = df['l'].shift(-i)\n",
    "    future_cols.append(f'h_{i}')\n",
    "    future_cols.append(f'l_{i}')\n",
    "\n",
    "# drop the rows that will not have the full future values\n",
    "df = df.iloc[:-future_window]\n",
    "\n",
    "df['future_min'] = df.apply(lambda x: x[future_cols].min(), axis=1)\n",
    "df['future_max'] = df.apply(lambda x: x[future_cols].max(), axis=1)\n",
    "\n",
    "# can't think of how to decide if future_min came first or future_max came first\n",
    "# so in the event that BOTH are more than 1% apart, will label as a \"no difference\"\n",
    "\n",
    "df['min_flag'] = ((df['c'] - df['future_min']) / df['c']) > future_diff_threshold\n",
    "df['max_flag'] = ((df['future_max'] - df['c']) / df['c']) > future_diff_threshold\n",
    "\n",
    "df['label'] = 1\n",
    "df.loc[(df['min_flag']==True)&(df['max_flag']==False), 'label'] = 0\n",
    "df.loc[(df['min_flag']==False)&(df['max_flag']==True), 'label'] = 2\n",
    "df.loc[(df['min_flag']==True)&(df['max_flag']==True), 'label'] = 1\n",
    "\n",
    "df = df[['c', 'label']]\n",
    "\n",
    "y = df['label'].values\n",
    "\n",
    "plt.plot(y)"
   ]
  },
  {
   "cell_type": "markdown",
   "metadata": {},
   "source": [
    "Let's focus on ETH USDC"
   ]
  },
  {
   "cell_type": "code",
   "execution_count": null,
   "metadata": {},
   "outputs": [],
   "source": [
    "data_file_name = 'data2.csv'\n",
    "instrument = 'BTC_USDC'\n",
    "future_window = 12\n",
    "future_diff_threshold = 0.012\n",
    "past_window = 24 # 2 hours?\n",
    "\n",
    "# technical analysis params\n",
    "rsi_windows = [5, 7]\n",
    "sma_windows = [5, 8, 13]\n",
    "\n",
    "# load in and drop duplicates\n",
    "df = pd.read_csv(data_file_name).drop_duplicates()\n",
    "\n",
    "# we are streaming data in through the websocket so we only need the latest row \n",
    "df = df.groupby(['instrument', 't']).last().reset_index()\n",
    "\n",
    "# filter for ETH USDC\n",
    "df = df.loc[df['instrument']==instrument]\n",
    "\n",
    "# convert our unix timestamp to dt\n",
    "df['dt'] = pd.to_datetime(df['t'], unit='ms')\n",
    "\n",
    "# calculate future values so we can set our labels\n",
    "# will do feature engineering after this\n",
    "\n",
    "future_cols = []\n",
    "for i in range(1, future_window+1):\n",
    "    df[f'h_{i}'] = df['h'].shift(-i)\n",
    "    df[f'l_{i}'] = df['l'].shift(-i)\n",
    "    future_cols.append(f'h_{i}')\n",
    "    future_cols.append(f'l_{i}')\n",
    "\n",
    "# drop the rows that will not have the full future values\n",
    "df = df.iloc[:-future_window]\n",
    "\n",
    "df['future_min'] = df.apply(lambda x: x[future_cols].min(), axis=1)\n",
    "df['future_max'] = df.apply(lambda x: x[future_cols].max(), axis=1)\n",
    "\n",
    "# can't think of how to decide if future_min came first or future_max came first\n",
    "# so in the event that BOTH are more than 1% apart, will label as a \"no difference\"\n",
    "\n",
    "df['min_flag'] = ((df['c'] - df['future_min']) / df['c']) > future_diff_threshold\n",
    "df['max_flag'] = ((df['future_max'] - df['c']) / df['c']) > future_diff_threshold\n",
    "\n",
    "\n",
    "\n",
    "df['label'] = 0\n",
    "df.loc[(df['min_flag']==True)&(df['max_flag']==False), 'label'] = 1\n",
    "df.loc[(df['min_flag']==False)&(df['max_flag']==True), 'label'] = 2\n",
    "df.loc[(df['min_flag']==True)&(df['max_flag']==True), 'label'] = 0\n",
    "\n",
    "# now that we have the labels, we can remove the future values and clean up a bit...\n",
    "\n",
    "df = df[['dt', 'o', 'h', 'l', 'c', 'v', 'label']]\n",
    "\n",
    "df = df.set_index('dt')\n",
    "\n",
    "for w in rsi_windows:\n",
    "    df[f'rsi{w}'] = rsi(df['c'], window=w)\n",
    "\n",
    "for w in sma_windows:\n",
    "    df[f'sma{w}'] = sma_indicator(df['c'], window=w)\n",
    "\n",
    "\n",
    "\n",
    "X_cols = [col for col in df.columns if col != 'label']\n",
    "# # let's bring in the past values\n",
    "for i in range(1, past_window+1):\n",
    "    for col in X_cols:\n",
    "        df[f'{col}_{i}'] = df[col].shift(i)\n",
    "\n",
    "# drop rows with NAs i.e. those that maybe be missing some indicators (due to the window) or past data\n",
    "df = df.dropna()\n",
    "\n",
    "\n",
    "# scaler = MinMaxScaler()\n",
    "# X = df.drop(['dt', 'label'], axis=1).values\n",
    "# y = df['label'].values\n",
    "\n",
    "# scaler.fit(X)\n",
    "\n",
    "# scaler.transform(X)\n",
    "\n",
    "df"
   ]
  },
  {
   "cell_type": "markdown",
   "metadata": {},
   "source": [
    "will need to kfold because rows near to each other might be highly correlated??"
   ]
  },
  {
   "cell_type": "code",
   "execution_count": null,
   "metadata": {},
   "outputs": [],
   "source": []
  }
 ],
 "metadata": {
  "kernelspec": {
   "display_name": "Python 3.10.2 64-bit",
   "language": "python",
   "name": "python3"
  },
  "language_info": {
   "codemirror_mode": {
    "name": "ipython",
    "version": 3
   },
   "file_extension": ".py",
   "mimetype": "text/x-python",
   "name": "python",
   "nbconvert_exporter": "python",
   "pygments_lexer": "ipython3",
   "version": "3.10.2"
  },
  "orig_nbformat": 4,
  "vscode": {
   "interpreter": {
    "hash": "2a0274fc9e55ed192bd78811b225a0bc64adc369048eb5f34d1676bcad930bf4"
   }
  }
 },
 "nbformat": 4,
 "nbformat_minor": 2
}
