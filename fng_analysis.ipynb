{
 "cells": [
  {
   "cell_type": "code",
   "execution_count": 2,
   "metadata": {},
   "outputs": [],
   "source": [
    "import requests\n",
    "import json\n",
    "\n",
    "import numpy as np\n",
    "import pandas as pd\n",
    "import matplotlib.pyplot as plt\n",
    "\n",
    "import mplfinance as mpl\n",
    "\n",
    "from cdc_wrapper import CDC"
   ]
  },
  {
   "cell_type": "code",
   "execution_count": 3,
   "metadata": {},
   "outputs": [
    {
     "name": "stdout",
     "output_type": "stream",
     "text": [
      "     value value_classification       date\n",
      "0       39                 Fear 2022-07-31\n",
      "1       42                 Fear 2022-07-30\n",
      "2       39                 Fear 2022-07-29\n",
      "3       32                 Fear 2022-07-28\n",
      "4       28                 Fear 2022-07-27\n",
      "..     ...                  ...        ...\n",
      "360     50              Neutral 2021-08-05\n",
      "361     42                 Fear 2021-08-04\n",
      "362     48              Neutral 2021-08-03\n",
      "363     48              Neutral 2021-08-02\n",
      "364     60                Greed 2021-08-01\n",
      "\n",
      "[365 rows x 3 columns]\n"
     ]
    }
   ],
   "source": [
    "base_url = 'https://api.alternative.me/'\n",
    "endpoint = 'fng/'\n",
    "limit = 365\n",
    "\n",
    "request = f'{base_url}{endpoint}?limit={limit}&format=json&date_format=cn'\n",
    "\n",
    "# request = 'https://api.alternative.me/fng/?limit=10&format=csv&date_format=cn'\n",
    "\n",
    "response = requests.get(request).json()\n",
    "fng_data = response['data']\n",
    "# temp = response.replace('\\\"', '\\'')\n",
    "\n",
    "\n",
    "\n",
    "fng_df = pd.DataFrame.from_records(fng_data)\n",
    "fng_df['date'] = pd.to_datetime(fng_df['timestamp'])\n",
    "fng_df = fng_df.drop(columns=['time_until_update', 'timestamp'])\n",
    "\n",
    "fng_df['value'] = pd.to_numeric(fng_df['value'])\n",
    "\n",
    "\n",
    "# for c in response:\n",
    "#     print(c)\n",
    "\n",
    "print(fng_df)\n",
    "\n",
    "# print(response)\n"
   ]
  },
  {
   "cell_type": "code",
   "execution_count": 31,
   "metadata": {},
   "outputs": [
    {
     "data": {
      "text/html": [
       "<div>\n",
       "<style scoped>\n",
       "    .dataframe tbody tr th:only-of-type {\n",
       "        vertical-align: middle;\n",
       "    }\n",
       "\n",
       "    .dataframe tbody tr th {\n",
       "        vertical-align: top;\n",
       "    }\n",
       "\n",
       "    .dataframe thead th {\n",
       "        text-align: right;\n",
       "    }\n",
       "</style>\n",
       "<table border=\"1\" class=\"dataframe\">\n",
       "  <thead>\n",
       "    <tr style=\"text-align: right;\">\n",
       "      <th></th>\n",
       "      <th>Open</th>\n",
       "      <th>High</th>\n",
       "      <th>Low</th>\n",
       "      <th>Close</th>\n",
       "      <th>Volume</th>\n",
       "      <th>date</th>\n",
       "    </tr>\n",
       "  </thead>\n",
       "  <tbody>\n",
       "    <tr>\n",
       "      <th>0</th>\n",
       "      <td>2227.47</td>\n",
       "      <td>2320.73</td>\n",
       "      <td>2152.83</td>\n",
       "      <td>2300.46</td>\n",
       "      <td>649.42772</td>\n",
       "      <td>2021-07-27</td>\n",
       "    </tr>\n",
       "    <tr>\n",
       "      <th>1</th>\n",
       "      <td>2299.88</td>\n",
       "      <td>2346.99</td>\n",
       "      <td>2243.19</td>\n",
       "      <td>2299.34</td>\n",
       "      <td>481.99783</td>\n",
       "      <td>2021-07-28</td>\n",
       "    </tr>\n",
       "    <tr>\n",
       "      <th>2</th>\n",
       "      <td>2300.35</td>\n",
       "      <td>2401.04</td>\n",
       "      <td>2268.14</td>\n",
       "      <td>2384.44</td>\n",
       "      <td>508.47622</td>\n",
       "      <td>2021-07-29</td>\n",
       "    </tr>\n",
       "    <tr>\n",
       "      <th>3</th>\n",
       "      <td>2382.52</td>\n",
       "      <td>2473.05</td>\n",
       "      <td>2317.66</td>\n",
       "      <td>2461.26</td>\n",
       "      <td>542.97700</td>\n",
       "      <td>2021-07-30</td>\n",
       "    </tr>\n",
       "    <tr>\n",
       "      <th>4</th>\n",
       "      <td>2462.83</td>\n",
       "      <td>2554.28</td>\n",
       "      <td>2421.68</td>\n",
       "      <td>2534.85</td>\n",
       "      <td>544.45300</td>\n",
       "      <td>2021-07-31</td>\n",
       "    </tr>\n",
       "    <tr>\n",
       "      <th>...</th>\n",
       "      <td>...</td>\n",
       "      <td>...</td>\n",
       "      <td>...</td>\n",
       "      <td>...</td>\n",
       "      <td>...</td>\n",
       "      <td>...</td>\n",
       "    </tr>\n",
       "    <tr>\n",
       "      <th>365</th>\n",
       "      <td>1450.26</td>\n",
       "      <td>1645.00</td>\n",
       "      <td>1420.74</td>\n",
       "      <td>1636.64</td>\n",
       "      <td>11109.00929</td>\n",
       "      <td>2022-07-27</td>\n",
       "    </tr>\n",
       "    <tr>\n",
       "      <th>366</th>\n",
       "      <td>1636.29</td>\n",
       "      <td>1784.24</td>\n",
       "      <td>1595.09</td>\n",
       "      <td>1725.62</td>\n",
       "      <td>8281.46426</td>\n",
       "      <td>2022-07-28</td>\n",
       "    </tr>\n",
       "    <tr>\n",
       "      <th>367</th>\n",
       "      <td>1725.53</td>\n",
       "      <td>1765.71</td>\n",
       "      <td>1657.54</td>\n",
       "      <td>1722.51</td>\n",
       "      <td>5772.45749</td>\n",
       "      <td>2022-07-29</td>\n",
       "    </tr>\n",
       "    <tr>\n",
       "      <th>368</th>\n",
       "      <td>1722.52</td>\n",
       "      <td>1745.00</td>\n",
       "      <td>1674.00</td>\n",
       "      <td>1697.62</td>\n",
       "      <td>3040.26885</td>\n",
       "      <td>2022-07-30</td>\n",
       "    </tr>\n",
       "    <tr>\n",
       "      <th>369</th>\n",
       "      <td>1698.41</td>\n",
       "      <td>1729.61</td>\n",
       "      <td>1686.46</td>\n",
       "      <td>1726.37</td>\n",
       "      <td>937.42062</td>\n",
       "      <td>2022-07-31</td>\n",
       "    </tr>\n",
       "  </tbody>\n",
       "</table>\n",
       "<p>370 rows × 6 columns</p>\n",
       "</div>"
      ],
      "text/plain": [
       "        Open     High      Low    Close       Volume       date\n",
       "0    2227.47  2320.73  2152.83  2300.46    649.42772 2021-07-27\n",
       "1    2299.88  2346.99  2243.19  2299.34    481.99783 2021-07-28\n",
       "2    2300.35  2401.04  2268.14  2384.44    508.47622 2021-07-29\n",
       "3    2382.52  2473.05  2317.66  2461.26    542.97700 2021-07-30\n",
       "4    2462.83  2554.28  2421.68  2534.85    544.45300 2021-07-31\n",
       "..       ...      ...      ...      ...          ...        ...\n",
       "365  1450.26  1645.00  1420.74  1636.64  11109.00929 2022-07-27\n",
       "366  1636.29  1784.24  1595.09  1725.62   8281.46426 2022-07-28\n",
       "367  1725.53  1765.71  1657.54  1722.51   5772.45749 2022-07-29\n",
       "368  1722.52  1745.00  1674.00  1697.62   3040.26885 2022-07-30\n",
       "369  1698.41  1729.61  1686.46  1726.37    937.42062 2022-07-31\n",
       "\n",
       "[370 rows x 6 columns]"
      ]
     },
     "execution_count": 31,
     "metadata": {},
     "output_type": "execute_result"
    }
   ],
   "source": [
    "with open('keys.json', 'r') as f:\n",
    "    keys = json.load(f)\n",
    "\n",
    "cdc = CDC(keys, sandbox=False)\n",
    "\n",
    "btc_data = cdc.get_candlesticks('ETH_USDC', '1D', depth=370)\n",
    "\n",
    "btc_df = pd.DataFrame.from_records(btc_data)\n",
    "\n",
    "btc_df['date'] = pd.to_datetime(btc_df['t'], unit='ms')\n",
    "\n",
    "btc_df = btc_df.drop(columns='t')\n",
    "\n",
    "btc_df = btc_df.rename({'o': 'Open', 'h': 'High', 'l': 'Low', 'c': 'Close', 'v': 'Volume'}, axis=1)\n",
    "\n",
    "btc_df"
   ]
  },
  {
   "cell_type": "code",
   "execution_count": 32,
   "metadata": {},
   "outputs": [
    {
     "data": {
      "text/plain": [
       "[<matplotlib.lines.Line2D at 0x1e5a4b93eb0>]"
      ]
     },
     "execution_count": 32,
     "metadata": {},
     "output_type": "execute_result"
    },
    {
     "data": {
      "image/png": "[encoded data removed]",
      "text/plain": [
       "<Figure size 432x288 with 1 Axes>"
      ]
     },
     "metadata": {
      "needs_background": "light"
     },
     "output_type": "display_data"
    }
   ],
   "source": [
    "df = btc_df.merge(fng_df, how='inner', on='date')\n",
    "\n",
    "df = df.set_index('date')\n",
    "\n",
    "windows = [i for i in range(10, 90, 5)]\n",
    "\n",
    "corrs = []\n",
    "\n",
    "for window in windows:\n",
    "\n",
    "    df['Close_max_window'] = df['Close'].rolling(window=window).max()\n",
    "\n",
    "    df['Close_indexed'] = df['Close'] / df['Close_max_window']\n",
    "\n",
    "    corrs.append(df[['Close_indexed', 'value']].corr()['value'][0])\n",
    "\n",
    "\n",
    "plt.plot(windows, corrs)\n",
    "\n",
    "# fig, ax = plt.subplots(1, 1, figsize=(12,9))\n",
    "\n",
    "# # # mpl.plot(\n",
    "# # #     df,\n",
    "# # #     type='candle',\n",
    "# # #     style='classic',\n",
    "# # #     ax=ax\n",
    "# # # )\n",
    "\n",
    "# ax.plot(df['Close_indexed'], color='r')\n",
    "\n",
    "# # # # ax.xticks = df.index\n",
    "\n",
    "# ax2 = ax.twinx()\n",
    "\n",
    "# ax2.plot(df['value'])\n",
    "\n",
    "# plt.show()\n",
    "\n",
    "# df"
   ]
  },
  {
   "cell_type": "code",
   "execution_count": 84,
   "metadata": {},
   "outputs": [
    {
     "data": {
      "text/plain": [
       "[<matplotlib.lines.Line2D at 0x2f7ae9df790>]"
      ]
     },
     "execution_count": 84,
     "metadata": {},
     "output_type": "execute_result"
    },
    {
     "data": {
      "image/png": "[encoded data removed]",
      "text/plain": [
       "<Figure size 432x288 with 1 Axes>"
      ]
     },
     "metadata": {
      "needs_background": "light"
     },
     "output_type": "display_data"
    }
   ],
   "source": [
    "plt.plot(df['value'])"
   ]
  }
 ],
 "metadata": {
  "kernelspec": {
   "display_name": "Python 3.10.2 64-bit",
   "language": "python",
   "name": "python3"
  },
  "language_info": {
   "codemirror_mode": {
    "name": "ipython",
    "version": 3
   },
   "file_extension": ".py",
   "mimetype": "text/x-python",
   "name": "python",
   "nbconvert_exporter": "python",
   "pygments_lexer": "ipython3",
   "version": "3.10.2"
  },
  "orig_nbformat": 4,
  "vscode": {
   "interpreter": {
    "hash": "2a0274fc9e55ed192bd78811b225a0bc64adc369048eb5f34d1676bcad930bf4"
   }
  }
 },
 "nbformat": 4,
 "nbformat_minor": 2
}
