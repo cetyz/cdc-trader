{
 "cells": [
  {
   "cell_type": "code",
   "execution_count": 113,
   "metadata": {},
   "outputs": [],
   "source": [
    "import os\n",
    "import requests\n",
    "from datetime import datetime\n",
    "\n",
    "from dotenv import load_dotenv\n",
    "\n",
    "import numpy as np\n",
    "import pandas as pd\n",
    "import matplotlib.pyplot as plt\n",
    "\n",
    "from cdc_wrapper import CDC"
   ]
  },
  {
   "cell_type": "code",
   "execution_count": 104,
   "metadata": {},
   "outputs": [],
   "source": [
    "load_dotenv()\n",
    "\n",
    "api_key = os.getenv('CDCEX_API')\n",
    "secret_key = os.getenv('CDCEX_SECRET')\n",
    "\n",
    "cdc = CDC(api_key=api_key, secret_key=secret_key, sandbox=False)\n",
    "data = cdc.get_candlesticks('ETHUSD-PERP', '1D', 365)\n",
    "# data"
   ]
  },
  {
   "cell_type": "code",
   "execution_count": 105,
   "metadata": {},
   "outputs": [
    {
     "data": {
      "text/html": [
       "<div>\n",
       "<style scoped>\n",
       "    .dataframe tbody tr th:only-of-type {\n",
       "        vertical-align: middle;\n",
       "    }\n",
       "\n",
       "    .dataframe tbody tr th {\n",
       "        vertical-align: top;\n",
       "    }\n",
       "\n",
       "    .dataframe thead th {\n",
       "        text-align: right;\n",
       "    }\n",
       "</style>\n",
       "<table border=\"1\" class=\"dataframe\">\n",
       "  <thead>\n",
       "    <tr style=\"text-align: right;\">\n",
       "      <th></th>\n",
       "      <th>o</th>\n",
       "      <th>h</th>\n",
       "      <th>l</th>\n",
       "      <th>c</th>\n",
       "      <th>v</th>\n",
       "      <th>t</th>\n",
       "      <th>dt</th>\n",
       "      <th>date</th>\n",
       "    </tr>\n",
       "  </thead>\n",
       "  <tbody>\n",
       "    <tr>\n",
       "      <th>0</th>\n",
       "      <td>1667.49</td>\n",
       "      <td>1669.19</td>\n",
       "      <td>1580.16</td>\n",
       "      <td>1634.10</td>\n",
       "      <td>48190.4686</td>\n",
       "      <td>1692662400000</td>\n",
       "      <td>2023-08-22</td>\n",
       "      <td>2023-08-22</td>\n",
       "    </tr>\n",
       "    <tr>\n",
       "      <th>1</th>\n",
       "      <td>1634.36</td>\n",
       "      <td>1701.60</td>\n",
       "      <td>1628.65</td>\n",
       "      <td>1679.21</td>\n",
       "      <td>61978.0377</td>\n",
       "      <td>1692748800000</td>\n",
       "      <td>2023-08-23</td>\n",
       "      <td>2023-08-23</td>\n",
       "    </tr>\n",
       "    <tr>\n",
       "      <th>2</th>\n",
       "      <td>1679.18</td>\n",
       "      <td>1683.26</td>\n",
       "      <td>1635.13</td>\n",
       "      <td>1660.59</td>\n",
       "      <td>44583.0578</td>\n",
       "      <td>1692835200000</td>\n",
       "      <td>2023-08-24</td>\n",
       "      <td>2023-08-24</td>\n",
       "    </tr>\n",
       "    <tr>\n",
       "      <th>3</th>\n",
       "      <td>1660.64</td>\n",
       "      <td>1676.45</td>\n",
       "      <td>1634.86</td>\n",
       "      <td>1653.28</td>\n",
       "      <td>51075.1499</td>\n",
       "      <td>1692921600000</td>\n",
       "      <td>2023-08-25</td>\n",
       "      <td>2023-08-25</td>\n",
       "    </tr>\n",
       "    <tr>\n",
       "      <th>4</th>\n",
       "      <td>1653.32</td>\n",
       "      <td>1655.21</td>\n",
       "      <td>1643.43</td>\n",
       "      <td>1646.41</td>\n",
       "      <td>11100.6098</td>\n",
       "      <td>1693008000000</td>\n",
       "      <td>2023-08-26</td>\n",
       "      <td>2023-08-26</td>\n",
       "    </tr>\n",
       "  </tbody>\n",
       "</table>\n",
       "</div>"
      ],
      "text/plain": [
       "         o        h        l        c           v              t         dt  \\\n",
       "0  1667.49  1669.19  1580.16  1634.10  48190.4686  1692662400000 2023-08-22   \n",
       "1  1634.36  1701.60  1628.65  1679.21  61978.0377  1692748800000 2023-08-23   \n",
       "2  1679.18  1683.26  1635.13  1660.59  44583.0578  1692835200000 2023-08-24   \n",
       "3  1660.64  1676.45  1634.86  1653.28  51075.1499  1692921600000 2023-08-25   \n",
       "4  1653.32  1655.21  1643.43  1646.41  11100.6098  1693008000000 2023-08-26   \n",
       "\n",
       "         date  \n",
       "0  2023-08-22  \n",
       "1  2023-08-23  \n",
       "2  2023-08-24  \n",
       "3  2023-08-25  \n",
       "4  2023-08-26  "
      ]
     },
     "execution_count": 105,
     "metadata": {},
     "output_type": "execute_result"
    }
   ],
   "source": [
    "df = pd.DataFrame(data)\n",
    "df['dt'] = pd.to_datetime(df['t'], unit='ms')\n",
    "df['o'] = df['o'].astype(float)\n",
    "df['h'] = df['h'].astype(float)\n",
    "df['l'] = df['l'].astype(float)\n",
    "df['c'] = df['c'].astype(float)\n",
    "df['v'] = df['v'].astype(float)\n",
    "df['date'] = df['dt'].dt.date\n",
    "df.head()"
   ]
  },
  {
   "cell_type": "code",
   "execution_count": 97,
   "metadata": {},
   "outputs": [
    {
     "name": "stdout",
     "output_type": "stream",
     "text": [
      "     value value_classification        date\n",
      "0       71                Greed  2024-06-16\n",
      "1       74                Greed  2024-06-15\n",
      "2       74                Greed  2024-06-14\n",
      "3       70                Greed  2024-06-13\n",
      "4       72                Greed  2024-06-12\n",
      "..     ...                  ...         ...\n",
      "360     65                Greed  2023-06-22\n",
      "361     59                Greed  2023-06-21\n",
      "362     49              Neutral  2023-06-20\n",
      "363     47              Neutral  2023-06-19\n",
      "364     49              Neutral  2023-06-18\n",
      "\n",
      "[365 rows x 3 columns]\n"
     ]
    }
   ],
   "source": [
    "base_url = 'https://api.alternative.me/'\n",
    "endpoint = 'fng/'\n",
    "limit = 365\n",
    "\n",
    "request = f'{base_url}{endpoint}?limit={limit}&format=json&date_format=cn'\n",
    "\n",
    "response = requests.get(request).json()\n",
    "fng_data = response['data']\n",
    "\n",
    "fng_df = pd.DataFrame.from_records(fng_data)\n",
    "fng_df['date'] = pd.to_datetime(fng_df['timestamp']).dt.date\n",
    "fng_df = fng_df.drop(columns=['time_until_update', 'timestamp'])\n",
    "\n",
    "fng_df['value'] = pd.to_numeric(fng_df['value'])\n",
    "\n",
    "print(fng_df)\n"
   ]
  },
  {
   "cell_type": "code",
   "execution_count": 122,
   "metadata": {},
   "outputs": [],
   "source": [
    "\n",
    "\n",
    "class Position:\n",
    "    def __init__(self, instrument, open_price, stop_loss, take_profit, qty, direction):\n",
    "        self.instrument = instrument\n",
    "        self.open_price = open_price\n",
    "        self.stop_loss = stop_loss\n",
    "        self.take_profit = take_profit\n",
    "        self.qty = qty\n",
    "        # short or long\n",
    "        self.direction = direction\n",
    "        self.status = 'open'\n",
    "\n",
    "    def calculate_cost(self):\n",
    "        return (self.open_price * self.qty)\n",
    "\n",
    "    def close_position(self, action) -> float:\n",
    "        self.status = 'closed'\n",
    "        if action == 'sl':\n",
    "            if self.direction == 'long':\n",
    "                return ((self.stop_loss * self.qty) - self.calculate_cost())\n",
    "            if self.direction == 'short':\n",
    "                return -((self.stop_loss * self.qty) - self.calculate_cost())\n",
    "        elif action == 'tp':\n",
    "            if self.direction == 'long':\n",
    "                return ((self.take_profit * self.qty) - self.calculate_cost())\n",
    "            if self.direction == 'short':\n",
    "                return -((self.take_profit * self.qty) - self.calculate_cost())\n",
    "\n",
    "def generate_indicators(df):\n",
    "    temp_df = df.copy()\n",
    "    # temp_df['ma50'] = temp_df['c'].rolling(50).mean()\n",
    "    # temp_df['ma100'] = temp_df['c'].rolling(100).mean()\n",
    "    temp_df = temp_df.merge(fng_df, how='left', on='date')\n",
    "    temp_df = temp_df.rename({\n",
    "        'value_classification': 'fng_cls',\n",
    "        'value': 'fng'\n",
    "    }, axis=1)\n",
    "\n",
    "    return temp_df\n",
    "\n",
    "# random for now, just to test\n",
    "def calculate_trade(row):\n",
    "    rng = np.random.rand()\n",
    "    if rng < 0.8:\n",
    "        return {\n",
    "            'decision': 'no trade',\n",
    "            'stop loss': 'na',\n",
    "            'take profit': 'na'\n",
    "        }\n",
    "    else:\n",
    "        if rng < 0.4:\n",
    "            return {\n",
    "                'decision': 'short',\n",
    "                'stop loss': row['c'] * 1.1,\n",
    "                'take profit': row['c'] * 0.8\n",
    "            }\n",
    "        else:\n",
    "            return {\n",
    "                'decision': 'long',\n",
    "                'stop loss': row['c'] * 0.9,\n",
    "                'take profit': row['c'] * 1.2\n",
    "            }"
   ]
  },
  {
   "cell_type": "code",
   "execution_count": 128,
   "metadata": {},
   "outputs": [
    {
     "data": {
      "text/plain": [
       "fng_cls_label\n",
       "2. Fear            -0.012492\n",
       "3. Neutral         -0.012321\n",
       "4. Greed            0.023119\n",
       "5. Extreme Greed    0.062555\n",
       "Name: c_rel7, dtype: float64"
      ]
     },
     "execution_count": 128,
     "metadata": {},
     "output_type": "execute_result"
    }
   ],
   "source": [
    "test_df = generate_indicators(df).copy()\n",
    "test_df['c_1'] = test_df['c'].shift(1)\n",
    "test_df['c_rel'] = test_df['c'] / test_df['c_1'] - 1\n",
    "test_df['c_7'] = test_df['c'].shift(7)\n",
    "test_df['c_rel7'] = test_df['c'] / test_df['c_7'] - 1\n",
    "test_df['fng_cls_label'] = test_df['fng_cls'].replace({\n",
    "    'Extreme Fear': '1. Extreme Fear',\n",
    "    'Fear': '2. Fear',\n",
    "    'Neutral': '3. Neutral',\n",
    "    'Greed': '4. Greed',\n",
    "    'Extreme Greed': '5. Extreme Greed'\n",
    "})\n",
    "test_df['fng_cls_label_1'] = test_df['fng_cls_label'].shift(1)\n",
    "test_df = test_df.dropna()\n",
    "test_df.groupby('fng_cls_label')['c_rel7'].mean()"
   ]
  },
  {
   "cell_type": "code",
   "execution_count": 132,
   "metadata": {},
   "outputs": [
    {
     "data": {
      "text/plain": [
       "fng_cls_label_1\n",
       "2. Fear            -0.004803\n",
       "3. Neutral         -0.010148\n",
       "4. Greed            0.023219\n",
       "5. Extreme Greed    0.056270\n",
       "Name: c_rel7, dtype: float64"
      ]
     },
     "execution_count": 132,
     "metadata": {},
     "output_type": "execute_result"
    }
   ],
   "source": [
    "test_df.groupby('fng_cls_label_1')['c_rel7'].mean()"
   ]
  },
  {
   "cell_type": "code",
   "execution_count": 130,
   "metadata": {},
   "outputs": [
    {
     "data": {
      "text/plain": [
       "<matplotlib.collections.PathCollection at 0x29268a39510>"
      ]
     },
     "execution_count": 130,
     "metadata": {},
     "output_type": "execute_result"
    },
    {
     "data": {
      "image/png": "[encoded data removed]",
      "text/plain": [
       "<Figure size 640x480 with 1 Axes>"
      ]
     },
     "metadata": {},
     "output_type": "display_data"
    }
   ],
   "source": [
    "plt.scatter(test_df['fng_cls_label'], test_df['c_rel7'])"
   ]
  },
  {
   "cell_type": "code",
   "execution_count": 131,
   "metadata": {},
   "outputs": [
    {
     "data": {
      "text/plain": [
       "<matplotlib.collections.PathCollection at 0x29268d18be0>"
      ]
     },
     "execution_count": 131,
     "metadata": {},
     "output_type": "execute_result"
    },
    {
     "data": {
      "image/png": "[encoded data removed]",
      "text/plain": [
       "<Figure size 640x480 with 1 Axes>"
      ]
     },
     "metadata": {},
     "output_type": "display_data"
    }
   ],
   "source": [
    "plt.scatter(test_df['fng_cls_label_1'], test_df['c_rel7'])"
   ]
  },
  {
   "cell_type": "code",
   "execution_count": 83,
   "metadata": {},
   "outputs": [
    {
     "name": "stdout",
     "output_type": "stream",
     "text": [
      "2024-04-30 16:00:00: Position hit stop loss.\n",
      "Capital: 9990.0\n",
      "2024-05-01 08:00:00: Position hit stop loss.\n",
      "Capital: 9980.0\n",
      "2024-05-14 16:00:00: Position hit stop loss.\n",
      "Capital: 9970.02\n",
      "2024-05-20 20:00:00: Position hit take profit.\n",
      "Capital: 9990.0\n",
      "2024-05-20 20:00:00: Position hit take profit.\n",
      "Capital: 10009.96\n",
      "2024-05-20 20:00:00: Position hit take profit.\n",
      "Capital: 10029.919999999998\n",
      "2024-05-21 00:00:00: Position hit take profit.\n",
      "Capital: 10049.879999999997\n",
      "2024-05-21 00:00:00: Position hit take profit.\n",
      "Capital: 10069.839999999997\n",
      "2024-05-21 00:00:00: Position hit take profit.\n",
      "Capital: 10089.780039999996\n",
      "2024-05-21 04:00:00: Position hit take profit.\n",
      "Capital: 10109.740039999995\n",
      "2024-05-21 08:00:00: Position hit take profit.\n",
      "Capital: 10129.700039999994\n",
      "2024-05-21 08:00:00: Position hit take profit.\n",
      "Capital: 10149.660039999993\n",
      "2024-05-21 12:00:00: Position hit take profit.\n",
      "Capital: 10169.620039999993\n",
      "2024-06-11 00:00:00: Position hit stop loss.\n",
      "Capital: 10159.450419959992\n",
      "2024-06-11 12:00:00: Position hit stop loss.\n",
      "Capital: 10149.280799919992\n",
      "2024-06-13 16:00:00: Position hit stop loss.\n",
      "Capital: 10139.111179879992\n",
      "2024-06-14 16:00:00: Position hit stop loss.\n",
      "Capital: 10128.941559839992\n",
      "2024-06-14 16:00:00: Position hit stop loss.\n",
      "Capital: 10118.771939799992\n"
     ]
    }
   ],
   "source": [
    "positions = []\n",
    "closed_positions = []\n",
    "\n",
    "capital = 10000\n",
    "risk_perc = 0.01\n",
    "max_positions = 10\n",
    "\n",
    "test_df = generate_indicators(df)\n",
    "test_df.dropna()\n",
    "\n",
    "for index, row in test_df.iterrows():\n",
    "    # decide if profit taken or stop triggered\n",
    "    if len(positions):\n",
    "        low_price = row['l']\n",
    "        high_price = row['h']\n",
    "        for position in positions:\n",
    "            if position.direction == 'long':\n",
    "                # prioritize stopping out first (i.e. conservative)\n",
    "                if low_price <= position.stop_loss:\n",
    "                    capital += position.close_position('sl')\n",
    "                    print(f'{row[\"dt\"]}: Position hit stop loss.\\nCapital: {capital}')\n",
    "                    closed_positions.append(position)\n",
    "                    positions.remove(position)\n",
    "                    continue\n",
    "                if high_price >= position.take_profit:\n",
    "                    capital += position.close_position('tp')\n",
    "                    print(f'{row[\"dt\"]}: Position hit take profit.\\nCapital: {capital}')\n",
    "                    closed_positions.append(position)\n",
    "                    positions.remove(position)\n",
    "                    continue\n",
    "            if position.direction == 'short':\n",
    "                if high_price >= position.stop_loss:\n",
    "                    capital += position.close_position('sl')\n",
    "                    print(f'{row[\"dt\"]}: Position hit stop loss.\\nCapital: {capital}')\n",
    "                    closed_positions.append(position)\n",
    "                    positions.remove(position)\n",
    "                    continue\n",
    "                if low_price <= position.take_profit:\n",
    "                    capital += position.close_position('tp')\n",
    "                    print(f'{row[\"dt\"]}: Position hit take profit.\\nCapital: {capital}')\n",
    "                    closed_positions.append(position)\n",
    "                    positions.remove(position)\n",
    "                    continue\n",
    "\n",
    "    # decide capital amount to use\n",
    "    risk_val = risk_perc * capital\n",
    "\n",
    "    # once positions are settled, decide whether to open new position or not\n",
    "    if len(positions) < max_positions:\n",
    "\n",
    "        result = calculate_trade(row)\n",
    "        if result['decision'] == 'no trade':\n",
    "            continue\n",
    "        else:\n",
    "            instrument = 'test instrument'\n",
    "            open_price = row['c']\n",
    "            stop_loss = result['stop loss']\n",
    "            take_profit = result['take profit']\n",
    "            direction = result['decision']\n",
    "            qty = risk_val / open_price\n",
    "            new_position = Position(instrument, open_price, stop_loss, take_profit, qty, direction)\n",
    "            positions.append(new_position)\n",
    "\n",
    "\n"
   ]
  },
  {
   "cell_type": "code",
   "execution_count": 50,
   "metadata": {},
   "outputs": [
    {
     "data": {
      "text/plain": [
       "['a', 'c']"
      ]
     },
     "execution_count": 50,
     "metadata": {},
     "output_type": "execute_result"
    }
   ],
   "source": [
    "a = ['a', 'b', 'c']\n",
    "a.remove('b')\n",
    "a"
   ]
  }
 ],
 "metadata": {
  "kernelspec": {
   "display_name": "Python 3",
   "language": "python",
   "name": "python3"
  },
  "language_info": {
   "codemirror_mode": {
    "name": "ipython",
    "version": 3
   },
   "file_extension": ".py",
   "mimetype": "text/x-python",
   "name": "python",
   "nbconvert_exporter": "python",
   "pygments_lexer": "ipython3",
   "version": "3.10.2"
  }
 },
 "nbformat": 4,
 "nbformat_minor": 2
}
